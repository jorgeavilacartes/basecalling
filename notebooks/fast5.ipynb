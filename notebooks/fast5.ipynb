{
 "cells": [
  {
   "cell_type": "code",
   "execution_count": 1,
   "metadata": {},
   "outputs": [
    {
     "data": {
      "text/plain": [
       "(['/nfs/projects5/basecalling-jorge/basecalling/notebooks',\n",
       "  '/home/javila/micromamba/envs/basecalling-cuda117/lib/python310.zip',\n",
       "  '/home/javila/micromamba/envs/basecalling-cuda117/lib/python3.10',\n",
       "  '/home/javila/micromamba/envs/basecalling-cuda117/lib/python3.10/lib-dynload',\n",
       "  '',\n",
       "  '/home/javila/micromamba/envs/basecalling-cuda117/lib/python3.10/site-packages',\n",
       "  '/nfs/projects5/basecalling-jorge/basecalling'],\n",
       " '/nfs/projects5/basecalling-jorge/basecalling')"
      ]
     },
     "execution_count": 1,
     "metadata": {},
     "output_type": "execute_result"
    }
   ],
   "source": [
    "import sys\n",
    "from pathlib import Path\n",
    "\n",
    "# add parent folder to the path\n",
    "module_path = str(Path.cwd().parents[0])\n",
    "if module_path not in sys.path:\n",
    "    sys.path.append(module_path)\n",
    "sys.path, module_path"
   ]
  },
  {
   "cell_type": "markdown",
   "metadata": {},
   "source": [
    "___"
   ]
  },
  {
   "cell_type": "code",
   "execution_count": 2,
   "metadata": {},
   "outputs": [],
   "source": [
    "import torch\n",
    "import torch.nn as nn\n",
    "from torch.utils.data import DataLoader # load batches to the network\n",
    "\n",
    "from ont_fast5_api.fast5_interface import get_fast5_file\n",
    "from feito.dataloaders import DatasetBasecalling\n"
   ]
  },
  {
   "cell_type": "code",
   "execution_count": 3,
   "metadata": {},
   "outputs": [],
   "source": [
    "dataset_basecalling = DatasetBasecalling(\n",
    "    [\"/projects5/basecalling-jorge/basecalling/data/RODAN/test/mouse-dataset/0/0a0bf68b-3b64-4fc6-ba34-d853db589f4b.fast5\",\n",
    "     \"/projects5/basecalling-jorge/basecalling/data/RODAN/test/mouse-dataset/0/0a8787dc-a4b9-45da-b4e0-8711ec36897e.fast5\"\n",
    "     ], path_save_index=\"../output/basecalling/index.csv\")\n",
    "\n"
   ]
  },
  {
   "cell_type": "code",
   "execution_count": 4,
   "metadata": {},
   "outputs": [
    {
     "data": {
      "text/plain": [
       "[Index(index=0, path_fast5='/projects5/basecalling-jorge/basecalling/data/RODAN/test/mouse-dataset/0/0a0bf68b-3b64-4fc6-ba34-d853db589f4b.fast5', read_id='0a0bf68b-3b64-4fc6-ba34-d853db589f4b', subsignal_id=0, start=0, end=4095),\n",
       " Index(index=1, path_fast5='/projects5/basecalling-jorge/basecalling/data/RODAN/test/mouse-dataset/0/0a0bf68b-3b64-4fc6-ba34-d853db589f4b.fast5', read_id='0a0bf68b-3b64-4fc6-ba34-d853db589f4b', subsignal_id=1, start=4096, end=8191),\n",
       " Index(index=2, path_fast5='/projects5/basecalling-jorge/basecalling/data/RODAN/test/mouse-dataset/0/0a0bf68b-3b64-4fc6-ba34-d853db589f4b.fast5', read_id='0a0bf68b-3b64-4fc6-ba34-d853db589f4b', subsignal_id=2, start=8192, end=12287),\n",
       " Index(index=3, path_fast5='/projects5/basecalling-jorge/basecalling/data/RODAN/test/mouse-dataset/0/0a0bf68b-3b64-4fc6-ba34-d853db589f4b.fast5', read_id='0a0bf68b-3b64-4fc6-ba34-d853db589f4b', subsignal_id=3, start=12288, end=16383),\n",
       " Index(index=4, path_fast5='/projects5/basecalling-jorge/basecalling/data/RODAN/test/mouse-dataset/0/0a0bf68b-3b64-4fc6-ba34-d853db589f4b.fast5', read_id='0a0bf68b-3b64-4fc6-ba34-d853db589f4b', subsignal_id=4, start=16384, end=20479),\n",
       " Index(index=5, path_fast5='/projects5/basecalling-jorge/basecalling/data/RODAN/test/mouse-dataset/0/0a8787dc-a4b9-45da-b4e0-8711ec36897e.fast5', read_id='0a8787dc-a4b9-45da-b4e0-8711ec36897e', subsignal_id=0, start=0, end=4095),\n",
       " Index(index=6, path_fast5='/projects5/basecalling-jorge/basecalling/data/RODAN/test/mouse-dataset/0/0a8787dc-a4b9-45da-b4e0-8711ec36897e.fast5', read_id='0a8787dc-a4b9-45da-b4e0-8711ec36897e', subsignal_id=1, start=4096, end=8191),\n",
       " Index(index=7, path_fast5='/projects5/basecalling-jorge/basecalling/data/RODAN/test/mouse-dataset/0/0a8787dc-a4b9-45da-b4e0-8711ec36897e.fast5', read_id='0a8787dc-a4b9-45da-b4e0-8711ec36897e', subsignal_id=2, start=8192, end=12287),\n",
       " Index(index=8, path_fast5='/projects5/basecalling-jorge/basecalling/data/RODAN/test/mouse-dataset/0/0a8787dc-a4b9-45da-b4e0-8711ec36897e.fast5', read_id='0a8787dc-a4b9-45da-b4e0-8711ec36897e', subsignal_id=3, start=12288, end=16383),\n",
       " Index(index=9, path_fast5='/projects5/basecalling-jorge/basecalling/data/RODAN/test/mouse-dataset/0/0a8787dc-a4b9-45da-b4e0-8711ec36897e.fast5', read_id='0a8787dc-a4b9-45da-b4e0-8711ec36897e', subsignal_id=4, start=16384, end=20479),\n",
       " Index(index=10, path_fast5='/projects5/basecalling-jorge/basecalling/data/RODAN/test/mouse-dataset/0/0a8787dc-a4b9-45da-b4e0-8711ec36897e.fast5', read_id='0a8787dc-a4b9-45da-b4e0-8711ec36897e', subsignal_id=5, start=20480, end=24575),\n",
       " Index(index=11, path_fast5='/projects5/basecalling-jorge/basecalling/data/RODAN/test/mouse-dataset/0/0a8787dc-a4b9-45da-b4e0-8711ec36897e.fast5', read_id='0a8787dc-a4b9-45da-b4e0-8711ec36897e', subsignal_id=6, start=24576, end=28671)]"
      ]
     },
     "execution_count": 4,
     "metadata": {},
     "output_type": "execute_result"
    }
   ],
   "source": [
    "dataset_basecalling.index"
   ]
  },
  {
   "cell_type": "code",
   "execution_count": 32,
   "metadata": {},
   "outputs": [],
   "source": [
    "BATCH_SIZE=5\n",
    "dataloader_basecalling = DataLoader(dataset_basecalling, batch_size=BATCH_SIZE, shuffle=False)\n"
   ]
  },
  {
   "cell_type": "code",
   "execution_count": 35,
   "metadata": {},
   "outputs": [],
   "source": [
    "iter_dl = iter(dataloader_basecalling)"
   ]
  },
  {
   "cell_type": "code",
   "execution_count": 40,
   "metadata": {},
   "outputs": [],
   "source": [
    "batch = next(iter_dl)"
   ]
  },
  {
   "cell_type": "code",
   "execution_count": 41,
   "metadata": {},
   "outputs": [
    {
     "data": {
      "text/plain": [
       "torch.Size([2, 4096])"
      ]
     },
     "execution_count": 41,
     "metadata": {},
     "output_type": "execute_result"
    }
   ],
   "source": [
    "batch.shape"
   ]
  },
  {
   "cell_type": "code",
   "execution_count": null,
   "metadata": {},
   "outputs": [],
   "source": []
  },
  {
   "cell_type": "code",
   "execution_count": null,
   "metadata": {},
   "outputs": [],
   "source": []
  },
  {
   "cell_type": "code",
   "execution_count": null,
   "metadata": {},
   "outputs": [],
   "source": []
  },
  {
   "cell_type": "code",
   "execution_count": 7,
   "metadata": {},
   "outputs": [],
   "source": [
    "def print_all_raw_data():\n",
    "    fast5_filepath = \"../data/RODAN/test/mouse-dataset/0/0a0bf68b-3b64-4fc6-ba34-d853db589f4b.fast5\" # This can be a single- or multi-read file\n",
    "    with get_fast5_file(fast5_filepath, mode=\"r\") as f5:\n",
    "        for read in f5.get_reads():\n",
    "            raw_data = read.get_raw_data()\n",
    "            print(read.read_id, raw_data, len(raw_data))"
   ]
  },
  {
   "cell_type": "code",
   "execution_count": null,
   "metadata": {},
   "outputs": [],
   "source": []
  },
  {
   "cell_type": "code",
   "execution_count": 8,
   "metadata": {},
   "outputs": [
    {
     "name": "stdout",
     "output_type": "stream",
     "text": [
      "0a0bf68b-3b64-4fc6-ba34-d853db589f4b [554 547 571 ... 559 567 556] 17611\n"
     ]
    }
   ],
   "source": [
    "print_all_raw_data()"
   ]
  },
  {
   "cell_type": "code",
   "execution_count": 9,
   "metadata": {},
   "outputs": [],
   "source": [
    "path_fast5 = \"../data/RODAN/test/mouse-dataset/0/0a0bf68b-3b64-4fc6-ba34-d853db589f4b.fast5\" # This can be a single- or multi-read file\n",
    "\n",
    "def load_signal(path_fast5: str):\n",
    "    \"Load a signal from fast5 file\"    \n",
    "    with get_fast5_file(path_fast5, mode=\"r\") as f5:\n",
    "        for read in f5.get_reads():\n",
    "            raw_signal = read.get_raw_data()\n",
    "            len_signal = len(raw_signal)\n",
    "            read_id    = read.read_id\n",
    "            \n",
    "    return raw_signal, read_id, len_signal"
   ]
  },
  {
   "cell_type": "code",
   "execution_count": 10,
   "metadata": {},
   "outputs": [],
   "source": [
    "raw_signal, read_id, len_signal = load_signal(path_fast5)"
   ]
  },
  {
   "cell_type": "code",
   "execution_count": 11,
   "metadata": {},
   "outputs": [
    {
     "data": {
      "text/plain": [
       "array([554, 547, 571, ..., 559, 567, 556], dtype=int16)"
      ]
     },
     "execution_count": 11,
     "metadata": {},
     "output_type": "execute_result"
    }
   ],
   "source": [
    "raw_signal"
   ]
  },
  {
   "cell_type": "code",
   "execution_count": 12,
   "metadata": {},
   "outputs": [
    {
     "data": {
      "text/plain": [
       "'0a0bf68b-3b64-4fc6-ba34-d853db589f4b'"
      ]
     },
     "execution_count": 12,
     "metadata": {},
     "output_type": "execute_result"
    }
   ],
   "source": [
    "read_id"
   ]
  },
  {
   "cell_type": "code",
   "execution_count": 13,
   "metadata": {},
   "outputs": [
    {
     "data": {
      "text/plain": [
       "17611"
      ]
     },
     "execution_count": 13,
     "metadata": {},
     "output_type": "execute_result"
    }
   ],
   "source": [
    "len_signal"
   ]
  },
  {
   "cell_type": "code",
   "execution_count": 15,
   "metadata": {},
   "outputs": [
    {
     "data": {
      "text/plain": [
       "array([554, 547, 571, 561, 570, 559, 536, 510, 512, 518, 516, 515, 507,\n",
       "       507, 512, 519, 520, 519, 510, 511, 508, 522, 500, 519, 519, 511,\n",
       "       522, 525, 512, 519, 514, 512, 515, 510, 522, 490, 502, 512, 521,\n",
       "       480, 719, 846, 848, 826, 839, 821, 844, 866, 857, 856, 862, 871,\n",
       "       873, 883, 875, 884, 866, 856, 880, 876, 881, 880, 879, 856, 858,\n",
       "       835, 857, 876, 888, 887, 878, 877, 873, 870, 871, 836, 834, 835,\n",
       "       845, 848, 836, 838, 897, 818, 834, 810, 820, 802, 836, 827, 819,\n",
       "       826, 823, 828, 828, 838, 827, 841, 870, 873], dtype=int16)"
      ]
     },
     "execution_count": 15,
     "metadata": {},
     "output_type": "execute_result"
    }
   ],
   "source": [
    "raw_signal[:100]\n"
   ]
  },
  {
   "cell_type": "code",
   "execution_count": 19,
   "metadata": {},
   "outputs": [
    {
     "data": {
      "text/plain": [
       "array([[554, 547, 571, 561, 570, 559, 536, 510, 512, 518],\n",
       "       [516, 515, 507, 507, 512, 519, 520, 519, 510, 511],\n",
       "       [508, 522, 500, 519, 519, 511, 522, 525, 512, 519],\n",
       "       [514, 512, 515, 510, 522, 490, 502, 512, 521, 480],\n",
       "       [719, 846, 848, 826, 839, 821, 844, 866, 857, 856],\n",
       "       [862, 871, 873, 883, 875, 884, 866, 856, 880, 876],\n",
       "       [881, 880, 879, 856, 858, 835, 857, 876, 888, 887],\n",
       "       [878, 877, 873, 870, 871, 836, 834, 835, 845, 848],\n",
       "       [836, 838, 897, 818, 834, 810, 820, 802, 836, 827],\n",
       "       [819, 826, 823, 828, 828, 838, 827, 841, 870, 873]], dtype=int16)"
      ]
     },
     "execution_count": 19,
     "metadata": {},
     "output_type": "execute_result"
    }
   ],
   "source": [
    "raw_signal[:100].reshape((10,-1))"
   ]
  },
  {
   "cell_type": "code",
   "execution_count": 54,
   "metadata": {},
   "outputs": [],
   "source": [
    "import numpy as np\n",
    "from typing import Optional\n",
    "\n",
    "def split_raw_signal(signal: np.ndarray, len_subsignals: int = 4096, left_trim: int= 0, right_trim: int = 0, len_overlap: int = 0):\n",
    "    \"\"\"Return an array with non-overlapping signals of the same length.\n",
    "    First the signal is trimmed (left/right), then the signal is padded with 0 \n",
    "    in the end to have perfect subsignals of len_subsignal's lengths\n",
    "\n",
    "    Args:\n",
    "        signal (np.ndarray): input raw read\n",
    "        len_subsignals (int, optional): fixed length of signals, it must be the input of the basecaller. Defaults to 4096.\n",
    "        len_overlap (int): _description_. Defaults to 0.\n",
    "        left_trim (int, optional): _description_. Defaults to 0.\n",
    "        right_trim (int, optional): _description_. Defaults to 0.\n",
    "    \"\"\"    \n",
    "    len_signal = len(signal)\n",
    "\n",
    "    # trim signal\n",
    "    start = left_trim - 1 if left_trim > 0 else 0 \n",
    "    end   = len_signal - right_trim + 1 if right_trim > 0 else len_signal\n",
    "    trimmed_signal = signal[start:end].copy()\n",
    "\n",
    "    # pad signal at the end with zeros to make the length divisible by len_subsignals\n",
    "    len_padd = len_subsignals - (len(trimmed_signal) % len_subsignals)\n",
    "    trimmed_signal = np.pad(trimmed_signal, (0,len_padd), 'constant', constant_values=(0,0))\n",
    "    \n",
    "    # reshape trimmed signal\n",
    "    return trimmed_signal.reshape((-1,len_subsignals))"
   ]
  },
  {
   "cell_type": "code",
   "execution_count": 55,
   "metadata": {},
   "outputs": [
    {
     "data": {
      "text/plain": [
       "(5, 4096)"
      ]
     },
     "execution_count": 55,
     "metadata": {},
     "output_type": "execute_result"
    }
   ],
   "source": [
    "s = split_raw_signal(\n",
    "    raw_signal,\n",
    ")\n",
    "s.shape"
   ]
  },
  {
   "cell_type": "code",
   "execution_count": null,
   "metadata": {},
   "outputs": [],
   "source": [
    "def preprocessing(signal,):\n",
    "    \"Apply some preprocessing to the signal\"\n",
    "    pass"
   ]
  }
 ],
 "metadata": {
  "kernelspec": {
   "display_name": "Python 3",
   "language": "python",
   "name": "python3"
  },
  "language_info": {
   "codemirror_mode": {
    "name": "ipython",
    "version": 3
   },
   "file_extension": ".py",
   "mimetype": "text/x-python",
   "name": "python",
   "nbconvert_exporter": "python",
   "pygments_lexer": "ipython3",
   "version": "3.10.11"
  },
  "orig_nbformat": 4
 },
 "nbformat": 4,
 "nbformat_minor": 2
}
