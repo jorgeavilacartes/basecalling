{
 "cells": [
  {
   "cell_type": "code",
   "execution_count": 1,
   "metadata": {},
   "outputs": [],
   "source": [
    "import sys\n",
    "from pathlib import Path\n",
    "\n",
    "# add parent folder to the path\n",
    "module_path = str(Path.cwd().parents[0])\n",
    "if module_path not in sys.path:\n",
    "    sys.path.append(module_path)"
   ]
  },
  {
   "attachments": {},
   "cell_type": "markdown",
   "metadata": {},
   "source": [
    "___"
   ]
  },
  {
   "cell_type": "code",
   "execution_count": 2,
   "metadata": {},
   "outputs": [],
   "source": [
    "import numpy as np\n",
    "import torch\n",
    "import torch.nn as nn\n",
    "from src.models.base import SimpleNet \n",
    "from src.dataloader import DatasetONT\n",
    "from torch.utils.data import DataLoader"
   ]
  },
  {
   "cell_type": "code",
   "execution_count": 3,
   "metadata": {},
   "outputs": [
    {
     "data": {
      "text/plain": [
       "device(type='cpu')"
      ]
     },
     "execution_count": 3,
     "metadata": {},
     "output_type": "execute_result"
    }
   ],
   "source": [
    "device = torch.device(\"cuda\" if torch.cuda.is_available() else \"cpu\")\n",
    "device"
   ]
  },
  {
   "cell_type": "code",
   "execution_count": 4,
   "metadata": {},
   "outputs": [],
   "source": [
    "dataset_train = DatasetONT(recfile=\"../data/subsample_train.hdf5\")\n",
    "dataset_val   = DatasetONT(recfile=\"../data/subsample_val.hdf5\")"
   ]
  },
  {
   "cell_type": "code",
   "execution_count": 5,
   "metadata": {},
   "outputs": [],
   "source": [
    "loader = iter(DataLoader(dataset_val, batch_size=2, shuffle=True))"
   ]
  },
  {
   "cell_type": "code",
   "execution_count": 6,
   "metadata": {},
   "outputs": [
    {
     "data": {
      "text/plain": [
       "(torch.Size([2, 1, 4096]), torch.Size([2, 271]))"
      ]
     },
     "execution_count": 6,
     "metadata": {},
     "output_type": "execute_result"
    }
   ],
   "source": [
    "x,y = next(loader)\n",
    "x.shape, y.shape"
   ]
  },
  {
   "cell_type": "code",
   "execution_count": 7,
   "metadata": {},
   "outputs": [],
   "source": [
    "# # A simple and lighweight neural network\n",
    "# import torch.nn as nn\n",
    "\n",
    "# # FIXME: check RODAN's code for the right output\n",
    "\n",
    "# class SimpleNet(nn.Module):\n",
    "#     \"\"\"A Conv1D net inspired in LeNet\"\"\"\n",
    "\n",
    "#     def __init__(self, n_channels = 1, n_classes = 271):\n",
    "#         # call parent constructor\n",
    "#         super(SimpleNet, self).__init__()\n",
    "\n",
    "#         # first block\n",
    "#         self.conv1 = nn.Conv1d(\n",
    "#             in_channels  = n_channels, out_channels = 20, kernel_size  = 5, stride = 1\n",
    "#         )\n",
    "#         self.relu1 = nn.ReLU()\n",
    "#         self.maxpool1 = nn.MaxPool1d(\n",
    "#             kernel_size = 2, stride = 2\n",
    "#             )\n",
    "\n",
    "#         # second block\n",
    "#         self.conv2 = nn.Conv1d(\n",
    "#             in_channels  = 20, out_channels = 50, kernel_size = 5\n",
    "#             )\n",
    "#         self.relu2 = nn.ReLU()\n",
    "#         self.maxpool2 = nn.MaxPool1d(\n",
    "#             kernel_size = 2, stride = 2\n",
    "#         )\n",
    "        \n",
    "#         # linear layer\n",
    "#         self.flatten1 = nn.Flatten()\n",
    "#         self.fc1 = nn.Linear(\n",
    "#             in_features = 1021, out_features = 500\n",
    "#         )\n",
    "#         self.relu3 = nn.ReLU()\n",
    "\n",
    "#         # output linear layer\n",
    "#         self.fc2 = nn.Linear(\n",
    "#             in_features = 500, out_features = n_classes\n",
    "#         )\n",
    "    \n",
    "#     def forward(self, x):\n",
    "\n",
    "#         # first block: convolution\n",
    "#         x = self.conv1(x)\n",
    "#         x = self.relu1(x)\n",
    "#         x = self.maxpool1(x)\n",
    "\n",
    "#         # second block: convolution\n",
    "#         x = self.conv2(x)\n",
    "#         x = self.relu2(x)\n",
    "#         x = self.maxpool2(x)\n",
    "\n",
    "#         # third block: linear\n",
    "#         x = self.flatten1(x)\n",
    "#         x = self.fc1(x)\n",
    "#         x = self.relu3(x)\n",
    "\n",
    "#         # output linear layer\n",
    "#         output = self.fc2(x)\n",
    "\n",
    "#         return x\n",
    "\n"
   ]
  },
  {
   "cell_type": "code",
   "execution_count": 8,
   "metadata": {},
   "outputs": [
    {
     "data": {
      "text/plain": [
       "SimpleNet(\n",
       "  (conv1): Conv1d(1, 20, kernel_size=(5,), stride=(1,))\n",
       "  (relu1): ReLU()\n",
       "  (maxpool1): MaxPool1d(kernel_size=2, stride=2, padding=0, dilation=1, ceil_mode=False)\n",
       "  (conv2): Conv1d(20, 50, kernel_size=(5,), stride=(1,))\n",
       "  (relu2): ReLU()\n",
       "  (maxpool2): MaxPool1d(kernel_size=2, stride=2, padding=0, dilation=1, ceil_mode=False)\n",
       "  (flatten1): Flatten(start_dim=1, end_dim=-1)\n",
       "  (fc1): Linear(in_features=51050, out_features=500, bias=True)\n",
       "  (relu3): ReLU()\n",
       "  (fc2): Linear(in_features=500, out_features=271, bias=True)\n",
       ")"
      ]
     },
     "execution_count": 8,
     "metadata": {},
     "output_type": "execute_result"
    }
   ],
   "source": [
    "model = SimpleNet(n_channels = 1, n_classes = 271)\n",
    "model.eval()"
   ]
  },
  {
   "cell_type": "code",
   "execution_count": 9,
   "metadata": {},
   "outputs": [
    {
     "data": {
      "text/plain": [
       "torch.Size([2, 271])"
      ]
     },
     "execution_count": 9,
     "metadata": {},
     "output_type": "execute_result"
    }
   ],
   "source": [
    "output = model(x)\n",
    "output.shape"
   ]
  }
 ],
 "metadata": {
  "kernelspec": {
   "display_name": "Python 3",
   "language": "python",
   "name": "python3"
  },
  "language_info": {
   "codemirror_mode": {
    "name": "ipython",
    "version": 3
   },
   "file_extension": ".py",
   "mimetype": "text/x-python",
   "name": "python",
   "nbconvert_exporter": "python",
   "pygments_lexer": "ipython3",
   "version": "3.10.11"
  },
  "orig_nbformat": 4
 },
 "nbformat": 4,
 "nbformat_minor": 2
}
