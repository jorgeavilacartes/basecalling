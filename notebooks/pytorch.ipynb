{
 "cells": [
  {
   "cell_type": "code",
   "execution_count": 1,
   "metadata": {},
   "outputs": [],
   "source": [
    "import sys\n",
    "from pathlib import Path\n",
    "\n",
    "# add parent folder to the path\n",
    "module_path = str(Path.cwd().parents[0])\n",
    "if module_path not in sys.path:\n",
    "    sys.path.append(module_path)"
   ]
  },
  {
   "attachments": {},
   "cell_type": "markdown",
   "metadata": {},
   "source": [
    "___"
   ]
  },
  {
   "cell_type": "code",
   "execution_count": 2,
   "metadata": {},
   "outputs": [],
   "source": [
    "import numpy as np\n",
    "import torch\n",
    "import torch.nn as nn\n",
    "from src.models.base import SimpleNet\n",
    "from src.models.rodan import Rodan\n",
    "from src.dataloader import DatasetONT\n",
    "from torch.utils.data import DataLoader"
   ]
  },
  {
   "cell_type": "code",
   "execution_count": 3,
   "metadata": {},
   "outputs": [
    {
     "data": {
      "text/plain": [
       "device(type='cpu')"
      ]
     },
     "execution_count": 3,
     "metadata": {},
     "output_type": "execute_result"
    }
   ],
   "source": [
    "device = torch.device(\"cuda\" if torch.cuda.is_available() else \"cpu\")\n",
    "device"
   ]
  },
  {
   "cell_type": "code",
   "execution_count": 4,
   "metadata": {},
   "outputs": [],
   "source": [
    "dataset_train = DatasetONT(recfile=\"../data/subsample_train.hdf5\")\n",
    "dataset_val   = DatasetONT(recfile=\"../data/subsample_val.hdf5\")"
   ]
  },
  {
   "cell_type": "code",
   "execution_count": 5,
   "metadata": {},
   "outputs": [],
   "source": [
    "loader = iter(DataLoader(dataset_val, batch_size=2, shuffle=True))"
   ]
  },
  {
   "cell_type": "code",
   "execution_count": 6,
   "metadata": {},
   "outputs": [
    {
     "name": "stdout",
     "output_type": "stream",
     "text": [
      "Input [batch size, channels, length]: torch.Size([2, 1, 4096])\n",
      "Input [batch size, length]: torch.Size([2, 271])\n"
     ]
    }
   ],
   "source": [
    "x,y = next(loader)\n",
    "print(\"Input [batch size, channels, length]:\" , x.shape)\n",
    "print(\"Input [batch size, length]:\" , y.shape)"
   ]
  },
  {
   "attachments": {},
   "cell_type": "markdown",
   "metadata": {},
   "source": [
    "___\n",
    "SimpleNet"
   ]
  },
  {
   "cell_type": "code",
   "execution_count": 7,
   "metadata": {},
   "outputs": [
    {
     "data": {
      "text/plain": [
       "SimpleNet(\n",
       "  (conv1): Conv1d(1, 20, kernel_size=(5,), stride=(1,))\n",
       "  (relu1): ReLU()\n",
       "  (maxpool1): MaxPool1d(kernel_size=2, stride=2, padding=0, dilation=1, ceil_mode=False)\n",
       "  (conv2): Conv1d(20, 50, kernel_size=(5,), stride=(1,))\n",
       "  (relu2): ReLU()\n",
       "  (maxpool2): MaxPool1d(kernel_size=2, stride=2, padding=0, dilation=1, ceil_mode=False)\n",
       "  (flatten1): Flatten(start_dim=1, end_dim=-1)\n",
       "  (fc1): Linear(in_features=51050, out_features=500, bias=True)\n",
       "  (relu3): ReLU()\n",
       "  (fc2): Linear(in_features=500, out_features=271, bias=True)\n",
       ")"
      ]
     },
     "execution_count": 7,
     "metadata": {},
     "output_type": "execute_result"
    }
   ],
   "source": [
    "simplenet = SimpleNet(n_channels = 1, n_classes = 271)\n",
    "simplenet.eval()"
   ]
  },
  {
   "cell_type": "code",
   "execution_count": 8,
   "metadata": {},
   "outputs": [
    {
     "data": {
      "text/plain": [
       "torch.Size([2, 271])"
      ]
     },
     "execution_count": 8,
     "metadata": {},
     "output_type": "execute_result"
    }
   ],
   "source": [
    "output = simplenet(x)\n",
    "output.shape"
   ]
  },
  {
   "attachments": {},
   "cell_type": "markdown",
   "metadata": {},
   "source": [
    "___\n",
    "RODAN"
   ]
  },
  {
   "cell_type": "code",
   "execution_count": 9,
   "metadata": {},
   "outputs": [],
   "source": [
    "from collections import namedtuple\n",
    "DEFAULTCONFIG = dict(\n",
    "    vocab=[\"<PAD>\", \"A\", \"C\", \"G\", \"T\"],\n",
    "    activation_layer=\"mish\", # options: mish, swish, relu, gelu\n",
    "    sqex_activation=\"mish\", # options: mish, swish, relu, gelu\n",
    "    dropout=0.1,\n",
    "    sqex_reduction=32\n",
    ")\n",
    "\n",
    "Config=namedtuple(\"CONFIG\",[\"vocab\", \"activation\", \"sqex_activation\", \"dropout\", \"sqex_reduction\"])\n"
   ]
  },
  {
   "cell_type": "code",
   "execution_count": 10,
   "metadata": {},
   "outputs": [],
   "source": [
    "rodan = Rodan(config=Config(*DEFAULTCONFIG.values()))"
   ]
  },
  {
   "cell_type": "code",
   "execution_count": 11,
   "metadata": {},
   "outputs": [
    {
     "data": {
      "text/plain": [
       "CONFIG(vocab=['<PAD>', 'A', 'C', 'G', 'T'], activation='mish', sqex_activation='mish', dropout=0.1, sqex_reduction=32)"
      ]
     },
     "execution_count": 11,
     "metadata": {},
     "output_type": "execute_result"
    }
   ],
   "source": [
    "Config(*DEFAULTCONFIG.values())"
   ]
  },
  {
   "cell_type": "code",
   "execution_count": 12,
   "metadata": {},
   "outputs": [
    {
     "data": {
      "text/plain": [
       "Rodan(\n",
       "  (convlayers): Sequential(\n",
       "    (conv0): ConvBlockRodan(\n",
       "      (conv): Conv1d(1, 256, kernel_size=(3,), stride=(1,), padding=(1,), bias=False)\n",
       "      (bn1): BatchNorm1d(256, eps=1e-05, momentum=0.1, affine=True, track_running_stats=True)\n",
       "      (act1): Mish()\n",
       "      (sqex): SqueezeExcite(\n",
       "        (avg): AdaptiveAvgPool1d(output_size=1)\n",
       "        (fc1): Linear(in_features=256, out_features=32, bias=True)\n",
       "        (activation): Mish()\n",
       "        (fc2): Linear(in_features=32, out_features=256, bias=True)\n",
       "        (sigmoid): Sigmoid()\n",
       "      )\n",
       "    )\n",
       "    (conv1): ConvBlockRodan(\n",
       "      (depthwise): Conv1d(256, 256, kernel_size=(10,), stride=(1,), padding=(5,), groups=256, bias=False)\n",
       "      (bn1): BatchNorm1d(256, eps=1e-05, momentum=0.1, affine=True, track_running_stats=True)\n",
       "      (act1): Mish()\n",
       "      (sqex): SqueezeExcite(\n",
       "        (avg): AdaptiveAvgPool1d(output_size=1)\n",
       "        (fc1): Linear(in_features=256, out_features=32, bias=True)\n",
       "        (activation): Mish()\n",
       "        (fc2): Linear(in_features=32, out_features=256, bias=True)\n",
       "        (sigmoid): Sigmoid()\n",
       "      )\n",
       "      (pointwise): Conv1d(256, 256, kernel_size=(1,), stride=(1,), bias=False)\n",
       "      (bn2): BatchNorm1d(256, eps=1e-05, momentum=0.1, affine=True, track_running_stats=True)\n",
       "      (act2): Mish()\n",
       "      (drop): Dropout(p=0.1, inplace=False)\n",
       "    )\n",
       "    (conv2): ConvBlockRodan(\n",
       "      (depthwise): Conv1d(256, 256, kernel_size=(10,), stride=(10,), padding=(5,), groups=256, bias=False)\n",
       "      (bn1): BatchNorm1d(256, eps=1e-05, momentum=0.1, affine=True, track_running_stats=True)\n",
       "      (act1): Mish()\n",
       "      (sqex): SqueezeExcite(\n",
       "        (avg): AdaptiveAvgPool1d(output_size=1)\n",
       "        (fc1): Linear(in_features=256, out_features=32, bias=True)\n",
       "        (activation): Mish()\n",
       "        (fc2): Linear(in_features=32, out_features=256, bias=True)\n",
       "        (sigmoid): Sigmoid()\n",
       "      )\n",
       "      (pointwise): Conv1d(256, 256, kernel_size=(1,), stride=(1,), bias=False)\n",
       "      (bn2): BatchNorm1d(256, eps=1e-05, momentum=0.1, affine=True, track_running_stats=True)\n",
       "      (act2): Mish()\n",
       "      (drop): Dropout(p=0.1, inplace=False)\n",
       "    )\n",
       "    (conv3): ConvBlockRodan(\n",
       "      (expansion): Conv1d(256, 320, kernel_size=(1,), stride=(1,), bias=False)\n",
       "      (expansion_norm): BatchNorm1d(320, eps=1e-05, momentum=0.1, affine=True, track_running_stats=True)\n",
       "      (expansion_act): Mish()\n",
       "      (depthwise): Conv1d(320, 320, kernel_size=(10,), stride=(1,), padding=(5,), groups=320, bias=False)\n",
       "      (bn1): BatchNorm1d(320, eps=1e-05, momentum=0.1, affine=True, track_running_stats=True)\n",
       "      (act1): Mish()\n",
       "      (sqex): SqueezeExcite(\n",
       "        (avg): AdaptiveAvgPool1d(output_size=1)\n",
       "        (fc1): Linear(in_features=320, out_features=32, bias=True)\n",
       "        (activation): Mish()\n",
       "        (fc2): Linear(in_features=32, out_features=320, bias=True)\n",
       "        (sigmoid): Sigmoid()\n",
       "      )\n",
       "      (pointwise): Conv1d(320, 320, kernel_size=(1,), stride=(1,), bias=False)\n",
       "      (bn2): BatchNorm1d(320, eps=1e-05, momentum=0.1, affine=True, track_running_stats=True)\n",
       "      (act2): Mish()\n",
       "      (drop): Dropout(p=0.1, inplace=False)\n",
       "    )\n",
       "    (conv4): ConvBlockRodan(\n",
       "      (expansion): Conv1d(320, 384, kernel_size=(1,), stride=(1,), bias=False)\n",
       "      (expansion_norm): BatchNorm1d(384, eps=1e-05, momentum=0.1, affine=True, track_running_stats=True)\n",
       "      (expansion_act): Mish()\n",
       "      (depthwise): Conv1d(384, 384, kernel_size=(15,), stride=(1,), padding=(7,), groups=384, bias=False)\n",
       "      (bn1): BatchNorm1d(384, eps=1e-05, momentum=0.1, affine=True, track_running_stats=True)\n",
       "      (act1): Mish()\n",
       "      (sqex): SqueezeExcite(\n",
       "        (avg): AdaptiveAvgPool1d(output_size=1)\n",
       "        (fc1): Linear(in_features=384, out_features=32, bias=True)\n",
       "        (activation): Mish()\n",
       "        (fc2): Linear(in_features=32, out_features=384, bias=True)\n",
       "        (sigmoid): Sigmoid()\n",
       "      )\n",
       "      (pointwise): Conv1d(384, 384, kernel_size=(1,), stride=(1,), bias=False)\n",
       "      (bn2): BatchNorm1d(384, eps=1e-05, momentum=0.1, affine=True, track_running_stats=True)\n",
       "      (act2): Mish()\n",
       "      (drop): Dropout(p=0.1, inplace=False)\n",
       "    )\n",
       "    (conv5): ConvBlockRodan(\n",
       "      (expansion): Conv1d(384, 448, kernel_size=(1,), stride=(1,), bias=False)\n",
       "      (expansion_norm): BatchNorm1d(448, eps=1e-05, momentum=0.1, affine=True, track_running_stats=True)\n",
       "      (expansion_act): Mish()\n",
       "      (depthwise): Conv1d(448, 448, kernel_size=(20,), stride=(1,), padding=(10,), groups=448, bias=False)\n",
       "      (bn1): BatchNorm1d(448, eps=1e-05, momentum=0.1, affine=True, track_running_stats=True)\n",
       "      (act1): Mish()\n",
       "      (sqex): SqueezeExcite(\n",
       "        (avg): AdaptiveAvgPool1d(output_size=1)\n",
       "        (fc1): Linear(in_features=448, out_features=32, bias=True)\n",
       "        (activation): Mish()\n",
       "        (fc2): Linear(in_features=32, out_features=448, bias=True)\n",
       "        (sigmoid): Sigmoid()\n",
       "      )\n",
       "      (pointwise): Conv1d(448, 448, kernel_size=(1,), stride=(1,), bias=False)\n",
       "      (bn2): BatchNorm1d(448, eps=1e-05, momentum=0.1, affine=True, track_running_stats=True)\n",
       "      (act2): Mish()\n",
       "      (drop): Dropout(p=0.1, inplace=False)\n",
       "    )\n",
       "    (conv6): ConvBlockRodan(\n",
       "      (expansion): Conv1d(448, 512, kernel_size=(1,), stride=(1,), bias=False)\n",
       "      (expansion_norm): BatchNorm1d(512, eps=1e-05, momentum=0.1, affine=True, track_running_stats=True)\n",
       "      (expansion_act): Mish()\n",
       "      (depthwise): Conv1d(512, 512, kernel_size=(25,), stride=(1,), padding=(12,), groups=512, bias=False)\n",
       "      (bn1): BatchNorm1d(512, eps=1e-05, momentum=0.1, affine=True, track_running_stats=True)\n",
       "      (act1): Mish()\n",
       "      (sqex): SqueezeExcite(\n",
       "        (avg): AdaptiveAvgPool1d(output_size=1)\n",
       "        (fc1): Linear(in_features=512, out_features=32, bias=True)\n",
       "        (activation): Mish()\n",
       "        (fc2): Linear(in_features=32, out_features=512, bias=True)\n",
       "        (sigmoid): Sigmoid()\n",
       "      )\n",
       "      (pointwise): Conv1d(512, 512, kernel_size=(1,), stride=(1,), bias=False)\n",
       "      (bn2): BatchNorm1d(512, eps=1e-05, momentum=0.1, affine=True, track_running_stats=True)\n",
       "      (act2): Mish()\n",
       "      (drop): Dropout(p=0.1, inplace=False)\n",
       "    )\n",
       "    (conv7): ConvBlockRodan(\n",
       "      (depthwise): Conv1d(512, 512, kernel_size=(30,), stride=(1,), padding=(15,), groups=512, bias=False)\n",
       "      (bn1): BatchNorm1d(512, eps=1e-05, momentum=0.1, affine=True, track_running_stats=True)\n",
       "      (act1): Mish()\n",
       "      (sqex): SqueezeExcite(\n",
       "        (avg): AdaptiveAvgPool1d(output_size=1)\n",
       "        (fc1): Linear(in_features=512, out_features=32, bias=True)\n",
       "        (activation): Mish()\n",
       "        (fc2): Linear(in_features=32, out_features=512, bias=True)\n",
       "        (sigmoid): Sigmoid()\n",
       "      )\n",
       "      (pointwise): Conv1d(512, 512, kernel_size=(1,), stride=(1,), bias=False)\n",
       "      (bn2): BatchNorm1d(512, eps=1e-05, momentum=0.1, affine=True, track_running_stats=True)\n",
       "      (act2): Mish()\n",
       "      (drop): Dropout(p=0.1, inplace=False)\n",
       "    )\n",
       "    (conv8): ConvBlockRodan(\n",
       "      (depthwise): Conv1d(512, 512, kernel_size=(35,), stride=(1,), padding=(17,), groups=512, bias=False)\n",
       "      (bn1): BatchNorm1d(512, eps=1e-05, momentum=0.1, affine=True, track_running_stats=True)\n",
       "      (act1): Mish()\n",
       "      (sqex): SqueezeExcite(\n",
       "        (avg): AdaptiveAvgPool1d(output_size=1)\n",
       "        (fc1): Linear(in_features=512, out_features=32, bias=True)\n",
       "        (activation): Mish()\n",
       "        (fc2): Linear(in_features=32, out_features=512, bias=True)\n",
       "        (sigmoid): Sigmoid()\n",
       "      )\n",
       "      (pointwise): Conv1d(512, 512, kernel_size=(1,), stride=(1,), bias=False)\n",
       "      (bn2): BatchNorm1d(512, eps=1e-05, momentum=0.1, affine=True, track_running_stats=True)\n",
       "      (act2): Mish()\n",
       "      (drop): Dropout(p=0.1, inplace=False)\n",
       "    )\n",
       "    (conv9): ConvBlockRodan(\n",
       "      (depthwise): Conv1d(512, 512, kernel_size=(40,), stride=(1,), padding=(20,), groups=512, bias=False)\n",
       "      (bn1): BatchNorm1d(512, eps=1e-05, momentum=0.1, affine=True, track_running_stats=True)\n",
       "      (act1): Mish()\n",
       "      (sqex): SqueezeExcite(\n",
       "        (avg): AdaptiveAvgPool1d(output_size=1)\n",
       "        (fc1): Linear(in_features=512, out_features=32, bias=True)\n",
       "        (activation): Mish()\n",
       "        (fc2): Linear(in_features=32, out_features=512, bias=True)\n",
       "        (sigmoid): Sigmoid()\n",
       "      )\n",
       "      (pointwise): Conv1d(512, 512, kernel_size=(1,), stride=(1,), bias=False)\n",
       "      (bn2): BatchNorm1d(512, eps=1e-05, momentum=0.1, affine=True, track_running_stats=True)\n",
       "      (act2): Mish()\n",
       "      (drop): Dropout(p=0.1, inplace=False)\n",
       "    )\n",
       "    (conv10): ConvBlockRodan(\n",
       "      (depthwise): Conv1d(512, 512, kernel_size=(45,), stride=(1,), padding=(22,), groups=512, bias=False)\n",
       "      (bn1): BatchNorm1d(512, eps=1e-05, momentum=0.1, affine=True, track_running_stats=True)\n",
       "      (act1): Mish()\n",
       "      (sqex): SqueezeExcite(\n",
       "        (avg): AdaptiveAvgPool1d(output_size=1)\n",
       "        (fc1): Linear(in_features=512, out_features=32, bias=True)\n",
       "        (activation): Mish()\n",
       "        (fc2): Linear(in_features=32, out_features=512, bias=True)\n",
       "        (sigmoid): Sigmoid()\n",
       "      )\n",
       "      (pointwise): Conv1d(512, 512, kernel_size=(1,), stride=(1,), bias=False)\n",
       "      (bn2): BatchNorm1d(512, eps=1e-05, momentum=0.1, affine=True, track_running_stats=True)\n",
       "      (act2): Mish()\n",
       "      (drop): Dropout(p=0.1, inplace=False)\n",
       "    )\n",
       "    (conv11): ConvBlockRodan(\n",
       "      (depthwise): Conv1d(512, 512, kernel_size=(50,), stride=(1,), padding=(25,), groups=512, bias=False)\n",
       "      (bn1): BatchNorm1d(512, eps=1e-05, momentum=0.1, affine=True, track_running_stats=True)\n",
       "      (act1): Mish()\n",
       "      (sqex): SqueezeExcite(\n",
       "        (avg): AdaptiveAvgPool1d(output_size=1)\n",
       "        (fc1): Linear(in_features=512, out_features=32, bias=True)\n",
       "        (activation): Mish()\n",
       "        (fc2): Linear(in_features=32, out_features=512, bias=True)\n",
       "        (sigmoid): Sigmoid()\n",
       "      )\n",
       "      (pointwise): Conv1d(512, 512, kernel_size=(1,), stride=(1,), bias=False)\n",
       "      (bn2): BatchNorm1d(512, eps=1e-05, momentum=0.1, affine=True, track_running_stats=True)\n",
       "      (act2): Mish()\n",
       "      (drop): Dropout(p=0.1, inplace=False)\n",
       "    )\n",
       "    (conv12): ConvBlockRodan(\n",
       "      (expansion): Conv1d(512, 768, kernel_size=(1,), stride=(1,), bias=False)\n",
       "      (expansion_norm): BatchNorm1d(768, eps=1e-05, momentum=0.1, affine=True, track_running_stats=True)\n",
       "      (expansion_act): Mish()\n",
       "      (depthwise): Conv1d(768, 768, kernel_size=(55,), stride=(1,), padding=(27,), groups=768, bias=False)\n",
       "      (bn1): BatchNorm1d(768, eps=1e-05, momentum=0.1, affine=True, track_running_stats=True)\n",
       "      (act1): Mish()\n",
       "      (sqex): SqueezeExcite(\n",
       "        (avg): AdaptiveAvgPool1d(output_size=1)\n",
       "        (fc1): Linear(in_features=768, out_features=32, bias=True)\n",
       "        (activation): Mish()\n",
       "        (fc2): Linear(in_features=32, out_features=768, bias=True)\n",
       "        (sigmoid): Sigmoid()\n",
       "      )\n",
       "      (pointwise): Conv1d(768, 768, kernel_size=(1,), stride=(1,), bias=False)\n",
       "      (bn2): BatchNorm1d(768, eps=1e-05, momentum=0.1, affine=True, track_running_stats=True)\n",
       "      (act2): Mish()\n",
       "      (drop): Dropout(p=0.1, inplace=False)\n",
       "    )\n",
       "    (conv13): ConvBlockRodan(\n",
       "      (depthwise): Conv1d(768, 768, kernel_size=(60,), stride=(1,), padding=(30,), groups=768, bias=False)\n",
       "      (bn1): BatchNorm1d(768, eps=1e-05, momentum=0.1, affine=True, track_running_stats=True)\n",
       "      (act1): Mish()\n",
       "      (sqex): SqueezeExcite(\n",
       "        (avg): AdaptiveAvgPool1d(output_size=1)\n",
       "        (fc1): Linear(in_features=768, out_features=32, bias=True)\n",
       "        (activation): Mish()\n",
       "        (fc2): Linear(in_features=32, out_features=768, bias=True)\n",
       "        (sigmoid): Sigmoid()\n",
       "      )\n",
       "      (pointwise): Conv1d(768, 768, kernel_size=(1,), stride=(1,), bias=False)\n",
       "      (bn2): BatchNorm1d(768, eps=1e-05, momentum=0.1, affine=True, track_running_stats=True)\n",
       "      (act2): Mish()\n",
       "      (drop): Dropout(p=0.1, inplace=False)\n",
       "    )\n",
       "    (conv14): ConvBlockRodan(\n",
       "      (depthwise): Conv1d(768, 768, kernel_size=(65,), stride=(1,), padding=(32,), groups=768, bias=False)\n",
       "      (bn1): BatchNorm1d(768, eps=1e-05, momentum=0.1, affine=True, track_running_stats=True)\n",
       "      (act1): Mish()\n",
       "      (sqex): SqueezeExcite(\n",
       "        (avg): AdaptiveAvgPool1d(output_size=1)\n",
       "        (fc1): Linear(in_features=768, out_features=32, bias=True)\n",
       "        (activation): Mish()\n",
       "        (fc2): Linear(in_features=32, out_features=768, bias=True)\n",
       "        (sigmoid): Sigmoid()\n",
       "      )\n",
       "      (pointwise): Conv1d(768, 768, kernel_size=(1,), stride=(1,), bias=False)\n",
       "      (bn2): BatchNorm1d(768, eps=1e-05, momentum=0.1, affine=True, track_running_stats=True)\n",
       "      (act2): Mish()\n",
       "      (drop): Dropout(p=0.1, inplace=False)\n",
       "    )\n",
       "    (conv15): ConvBlockRodan(\n",
       "      (depthwise): Conv1d(768, 768, kernel_size=(70,), stride=(1,), padding=(35,), groups=768, bias=False)\n",
       "      (bn1): BatchNorm1d(768, eps=1e-05, momentum=0.1, affine=True, track_running_stats=True)\n",
       "      (act1): Mish()\n",
       "      (sqex): SqueezeExcite(\n",
       "        (avg): AdaptiveAvgPool1d(output_size=1)\n",
       "        (fc1): Linear(in_features=768, out_features=32, bias=True)\n",
       "        (activation): Mish()\n",
       "        (fc2): Linear(in_features=32, out_features=768, bias=True)\n",
       "        (sigmoid): Sigmoid()\n",
       "      )\n",
       "      (pointwise): Conv1d(768, 768, kernel_size=(1,), stride=(1,), bias=False)\n",
       "      (bn2): BatchNorm1d(768, eps=1e-05, momentum=0.1, affine=True, track_running_stats=True)\n",
       "      (act2): Mish()\n",
       "      (drop): Dropout(p=0.1, inplace=False)\n",
       "    )\n",
       "    (conv16): ConvBlockRodan(\n",
       "      (depthwise): Conv1d(768, 768, kernel_size=(75,), stride=(1,), padding=(37,), groups=768, bias=False)\n",
       "      (bn1): BatchNorm1d(768, eps=1e-05, momentum=0.1, affine=True, track_running_stats=True)\n",
       "      (act1): Mish()\n",
       "      (sqex): SqueezeExcite(\n",
       "        (avg): AdaptiveAvgPool1d(output_size=1)\n",
       "        (fc1): Linear(in_features=768, out_features=32, bias=True)\n",
       "        (activation): Mish()\n",
       "        (fc2): Linear(in_features=32, out_features=768, bias=True)\n",
       "        (sigmoid): Sigmoid()\n",
       "      )\n",
       "      (pointwise): Conv1d(768, 768, kernel_size=(1,), stride=(1,), bias=False)\n",
       "      (bn2): BatchNorm1d(768, eps=1e-05, momentum=0.1, affine=True, track_running_stats=True)\n",
       "      (act2): Mish()\n",
       "      (drop): Dropout(p=0.1, inplace=False)\n",
       "    )\n",
       "    (conv17): ConvBlockRodan(\n",
       "      (depthwise): Conv1d(768, 768, kernel_size=(80,), stride=(1,), padding=(40,), groups=768, bias=False)\n",
       "      (bn1): BatchNorm1d(768, eps=1e-05, momentum=0.1, affine=True, track_running_stats=True)\n",
       "      (act1): Mish()\n",
       "      (sqex): SqueezeExcite(\n",
       "        (avg): AdaptiveAvgPool1d(output_size=1)\n",
       "        (fc1): Linear(in_features=768, out_features=32, bias=True)\n",
       "        (activation): Mish()\n",
       "        (fc2): Linear(in_features=32, out_features=768, bias=True)\n",
       "        (sigmoid): Sigmoid()\n",
       "      )\n",
       "      (pointwise): Conv1d(768, 768, kernel_size=(1,), stride=(1,), bias=False)\n",
       "      (bn2): BatchNorm1d(768, eps=1e-05, momentum=0.1, affine=True, track_running_stats=True)\n",
       "      (act2): Mish()\n",
       "      (drop): Dropout(p=0.1, inplace=False)\n",
       "    )\n",
       "    (conv18): ConvBlockRodan(\n",
       "      (depthwise): Conv1d(768, 768, kernel_size=(85,), stride=(1,), padding=(42,), groups=768, bias=False)\n",
       "      (bn1): BatchNorm1d(768, eps=1e-05, momentum=0.1, affine=True, track_running_stats=True)\n",
       "      (act1): Mish()\n",
       "      (sqex): SqueezeExcite(\n",
       "        (avg): AdaptiveAvgPool1d(output_size=1)\n",
       "        (fc1): Linear(in_features=768, out_features=32, bias=True)\n",
       "        (activation): Mish()\n",
       "        (fc2): Linear(in_features=32, out_features=768, bias=True)\n",
       "        (sigmoid): Sigmoid()\n",
       "      )\n",
       "      (pointwise): Conv1d(768, 768, kernel_size=(1,), stride=(1,), bias=False)\n",
       "      (bn2): BatchNorm1d(768, eps=1e-05, momentum=0.1, affine=True, track_running_stats=True)\n",
       "      (act2): Mish()\n",
       "      (drop): Dropout(p=0.1, inplace=False)\n",
       "    )\n",
       "    (conv19): ConvBlockRodan(\n",
       "      (depthwise): Conv1d(768, 768, kernel_size=(90,), stride=(1,), padding=(45,), groups=768, bias=False)\n",
       "      (bn1): BatchNorm1d(768, eps=1e-05, momentum=0.1, affine=True, track_running_stats=True)\n",
       "      (act1): Mish()\n",
       "      (sqex): SqueezeExcite(\n",
       "        (avg): AdaptiveAvgPool1d(output_size=1)\n",
       "        (fc1): Linear(in_features=768, out_features=32, bias=True)\n",
       "        (activation): Mish()\n",
       "        (fc2): Linear(in_features=32, out_features=768, bias=True)\n",
       "        (sigmoid): Sigmoid()\n",
       "      )\n",
       "      (pointwise): Conv1d(768, 768, kernel_size=(1,), stride=(1,), bias=False)\n",
       "      (bn2): BatchNorm1d(768, eps=1e-05, momentum=0.1, affine=True, track_running_stats=True)\n",
       "      (act2): Mish()\n",
       "      (drop): Dropout(p=0.1, inplace=False)\n",
       "    )\n",
       "    (conv20): ConvBlockRodan(\n",
       "      (depthwise): Conv1d(768, 768, kernel_size=(95,), stride=(1,), padding=(47,), groups=768, bias=False)\n",
       "      (bn1): BatchNorm1d(768, eps=1e-05, momentum=0.1, affine=True, track_running_stats=True)\n",
       "      (act1): Mish()\n",
       "      (sqex): SqueezeExcite(\n",
       "        (avg): AdaptiveAvgPool1d(output_size=1)\n",
       "        (fc1): Linear(in_features=768, out_features=32, bias=True)\n",
       "        (activation): Mish()\n",
       "        (fc2): Linear(in_features=32, out_features=768, bias=True)\n",
       "        (sigmoid): Sigmoid()\n",
       "      )\n",
       "      (pointwise): Conv1d(768, 768, kernel_size=(1,), stride=(1,), bias=False)\n",
       "      (bn2): BatchNorm1d(768, eps=1e-05, momentum=0.1, affine=True, track_running_stats=True)\n",
       "      (act2): Mish()\n",
       "      (drop): Dropout(p=0.1, inplace=False)\n",
       "    )\n",
       "    (conv21): ConvBlockRodan(\n",
       "      (depthwise): Conv1d(768, 768, kernel_size=(100,), stride=(1,), padding=(50,), groups=768, bias=False)\n",
       "      (bn1): BatchNorm1d(768, eps=1e-05, momentum=0.1, affine=True, track_running_stats=True)\n",
       "      (act1): Mish()\n",
       "      (sqex): SqueezeExcite(\n",
       "        (avg): AdaptiveAvgPool1d(output_size=1)\n",
       "        (fc1): Linear(in_features=768, out_features=32, bias=True)\n",
       "        (activation): Mish()\n",
       "        (fc2): Linear(in_features=32, out_features=768, bias=True)\n",
       "        (sigmoid): Sigmoid()\n",
       "      )\n",
       "      (pointwise): Conv1d(768, 768, kernel_size=(1,), stride=(1,), bias=False)\n",
       "      (bn2): BatchNorm1d(768, eps=1e-05, momentum=0.1, affine=True, track_running_stats=True)\n",
       "      (act2): Mish()\n",
       "      (drop): Dropout(p=0.1, inplace=False)\n",
       "    )\n",
       "  )\n",
       "  (final): Linear(in_features=768, out_features=5, bias=True)\n",
       ")"
      ]
     },
     "execution_count": 12,
     "metadata": {},
     "output_type": "execute_result"
    }
   ],
   "source": [
    "rodan.eval()"
   ]
  },
  {
   "cell_type": "code",
   "execution_count": 15,
   "metadata": {},
   "outputs": [
    {
     "name": "stdout",
     "output_type": "stream",
     "text": [
      "Input [batch size, channels, length]: torch.Size([2, 1, 4096])\n",
      "Input [batch size, length]: torch.Size([2, 271])\n",
      "output rodan: torch.Size([420, 2, 5])\n"
     ]
    }
   ],
   "source": [
    "x,y = next(loader)\n",
    "print(\"Input [batch size, channels, length]:\" , x.shape)\n",
    "print(\"Input [batch size, length]:\" , y.shape)\n",
    "\n",
    "output_rodan = rodan(x)\n",
    "print(\"output rodan:\", output_rodan.shape)"
   ]
  },
  {
   "cell_type": "code",
   "execution_count": 16,
   "metadata": {},
   "outputs": [
    {
     "data": {
      "text/plain": [
       "tensor([[-1.5983, -1.6233, -1.6262, -1.6126, -1.5873],\n",
       "        [-1.5983, -1.6233, -1.6262, -1.6126, -1.5873],\n",
       "        [-1.5983, -1.6233, -1.6262, -1.6126, -1.5873],\n",
       "        ...,\n",
       "        [-1.5983, -1.6233, -1.6262, -1.6126, -1.5873],\n",
       "        [-1.5983, -1.6233, -1.6262, -1.6126, -1.5873],\n",
       "        [-1.5983, -1.6233, -1.6262, -1.6126, -1.5873]],\n",
       "       grad_fn=<SliceBackward0>)"
      ]
     },
     "execution_count": 16,
     "metadata": {},
     "output_type": "execute_result"
    }
   ],
   "source": [
    "output_rodan[:,1,:]"
   ]
  },
  {
   "attachments": {},
   "cell_type": "markdown",
   "metadata": {},
   "source": [
    "___\n",
    "## basecalling \n"
   ]
  },
  {
   "cell_type": "code",
   "execution_count": 30,
   "metadata": {},
   "outputs": [],
   "source": [
    "import numpy as np\n",
    "from fast_ctc_decode import beam_search, viterbi_search\n",
    "alphabet = \"NACGT\""
   ]
  },
  {
   "cell_type": "code",
   "execution_count": 29,
   "metadata": {},
   "outputs": [
    {
     "data": {
      "text/plain": [
       "'T'"
      ]
     },
     "execution_count": 29,
     "metadata": {},
     "output_type": "execute_result"
    }
   ],
   "source": [
    "posteriors = output_rodan[:,1,:].detach().numpy()\n",
    "seq, path = viterbi_search(posteriors, alphabet)\n",
    "seq"
   ]
  },
  {
   "cell_type": "code",
   "execution_count": null,
   "metadata": {},
   "outputs": [],
   "source": [
    "\n",
    "posteriors = np.random.rand(100, len(alphabet)).astype(np.float32)\n",
    "posteriors"
   ]
  },
  {
   "cell_type": "code",
   "execution_count": 19,
   "metadata": {},
   "outputs": [],
   "source": [
    "seq, path = viterbi_search(posteriors, alphabet)"
   ]
  },
  {
   "cell_type": "code",
   "execution_count": 24,
   "metadata": {},
   "outputs": [
    {
     "data": {
      "text/plain": [
       "('GATCTCTATATGTGTATCACAGCAGTCATCTCATCGACGCACTCACT', 47)"
      ]
     },
     "execution_count": 24,
     "metadata": {},
     "output_type": "execute_result"
    }
   ],
   "source": [
    "seq, len(seq)\n"
   ]
  },
  {
   "cell_type": "code",
   "execution_count": 21,
   "metadata": {},
   "outputs": [
    {
     "data": {
      "text/plain": [
       "[0,\n",
       " 2,\n",
       " 3,\n",
       " 6,\n",
       " 9,\n",
       " 14,\n",
       " 16,\n",
       " 17,\n",
       " 18,\n",
       " 20,\n",
       " 21,\n",
       " 22,\n",
       " 23,\n",
       " 24,\n",
       " 25,\n",
       " 28,\n",
       " 29,\n",
       " 32,\n",
       " 35,\n",
       " 37,\n",
       " 40,\n",
       " 41,\n",
       " 43,\n",
       " 46,\n",
       " 48,\n",
       " 50,\n",
       " 52,\n",
       " 53,\n",
       " 54,\n",
       " 56,\n",
       " 58,\n",
       " 59,\n",
       " 60,\n",
       " 61,\n",
       " 64,\n",
       " 65,\n",
       " 66,\n",
       " 68,\n",
       " 70,\n",
       " 72,\n",
       " 75,\n",
       " 78,\n",
       " 82,\n",
       " 83,\n",
       " 84,\n",
       " 85,\n",
       " 86,\n",
       " 88,\n",
       " 90,\n",
       " 91,\n",
       " 93,\n",
       " 94,\n",
       " 96,\n",
       " 97,\n",
       " 98,\n",
       " 99]"
      ]
     },
     "execution_count": 21,
     "metadata": {},
     "output_type": "execute_result"
    }
   ],
   "source": [
    "path"
   ]
  },
  {
   "cell_type": "code",
   "execution_count": 25,
   "metadata": {},
   "outputs": [
    {
     "data": {
      "text/plain": [
       "('GATCTCTATATGTGTATCACAGCAGTCATCTCATCGACGCACTCACT', 47)"
      ]
     },
     "execution_count": 25,
     "metadata": {},
     "output_type": "execute_result"
    }
   ],
   "source": [
    "seq, path = beam_search(posteriors, alphabet, beam_size=5, beam_cut_threshold=0.1)\n",
    "seq, len(seq)"
   ]
  }
 ],
 "metadata": {
  "kernelspec": {
   "display_name": "Python 3",
   "language": "python",
   "name": "python3"
  },
  "language_info": {
   "codemirror_mode": {
    "name": "ipython",
    "version": 3
   },
   "file_extension": ".py",
   "mimetype": "text/x-python",
   "name": "python",
   "nbconvert_exporter": "python",
   "pygments_lexer": "ipython3",
   "version": "3.10.11"
  },
  "orig_nbformat": 4
 },
 "nbformat": 4,
 "nbformat_minor": 2
}
