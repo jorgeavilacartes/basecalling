{
 "cells": [
  {
   "cell_type": "code",
   "execution_count": 3,
   "metadata": {},
   "outputs": [],
   "source": [
    "import sys\n",
    "from pathlib import Path\n",
    "\n",
    "# add parent folder to the path\n",
    "module_path = str(Path.cwd().parents[0])\n",
    "if module_path not in sys.path:\n",
    "    sys.path.append(module_path)\n"
   ]
  },
  {
   "cell_type": "markdown",
   "metadata": {},
   "source": [
    "## Reconstruct reads\n",
    "Given the (1) index and (2) basecalled portions of reads, concatenate these portions to reconstruct the reads, than later will be mapped to the reference transcriptomes.\n"
   ]
  },
  {
   "cell_type": "code",
   "execution_count": 4,
   "metadata": {},
   "outputs": [],
   "source": [
    "from feito.utils.reconstruct_reads import ReconstructReads"
   ]
  },
  {
   "cell_type": "code",
   "execution_count": 5,
   "metadata": {},
   "outputs": [
    {
     "name": "stderr",
     "output_type": "stream",
     "text": [
      "100%|██████████| 30540/30540 [00:00<00:00, 542615.03it/s]\n"
     ]
    }
   ],
   "source": [
    "PATH_INDEX=\"../output-old/basecalling/simplenet-index.csv\"\n",
    "PATH_READS=\"../output-old/basecalling/simplenet-basecalled_reads.fa\"\n",
    "PATH_RECONSTRUCTED_READS=\"../output-old/basecalling/simplenet-full_reads.fa\"\n",
    "# index=pd.read_csv(PATH_INDEX, sep=\"\\t\")\n",
    "\n",
    "reconstruct_reads = ReconstructReads(\n",
    "    path_index=PATH_INDEX,\n",
    "    path_basecalled_reads=PATH_READS,\n",
    "    path_reconstructed_reads=PATH_RECONSTRUCTED_READS\n",
    ")"
   ]
  },
  {
   "cell_type": "code",
   "execution_count": 6,
   "metadata": {},
   "outputs": [],
   "source": [
    "reconstruct_reads()"
   ]
  },
  {
   "cell_type": "markdown",
   "metadata": {},
   "source": [
    "___"
   ]
  }
 ],
 "metadata": {
  "kernelspec": {
   "display_name": "Python 3",
   "language": "python",
   "name": "python3"
  },
  "language_info": {
   "codemirror_mode": {
    "name": "ipython",
    "version": 3
   },
   "file_extension": ".py",
   "mimetype": "text/x-python",
   "name": "python",
   "nbconvert_exporter": "python",
   "pygments_lexer": "ipython3",
   "version": "3.10.11"
  },
  "orig_nbformat": 4
 },
 "nbformat": 4,
 "nbformat_minor": 2
}
