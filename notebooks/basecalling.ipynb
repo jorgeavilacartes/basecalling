{
 "cells": [
  {
   "cell_type": "code",
   "execution_count": 1,
   "metadata": {},
   "outputs": [],
   "source": [
    "import sys\n",
    "from pathlib import Path\n",
    "\n",
    "# add parent folder to the path\n",
    "module_path = str(Path.cwd().parents[0])\n",
    "if module_path not in sys.path:\n",
    "    sys.path.append(module_path)"
   ]
  },
  {
   "cell_type": "markdown",
   "metadata": {},
   "source": [
    "# Basecalling "
   ]
  },
  {
   "cell_type": "code",
   "execution_count": 2,
   "metadata": {},
   "outputs": [],
   "source": [
    "import re\n",
    "import logging\n",
    "from typing import Union, Optional\n",
    "from pathlib import Path\n",
    "from collections import namedtuple, defaultdict"
   ]
  },
  {
   "cell_type": "code",
   "execution_count": 3,
   "metadata": {},
   "outputs": [],
   "source": [
    "\n",
    "import torch\n",
    "import torch.nn as nn\n",
    "from torch.utils.data import DataLoader # load batches to the network\n"
   ]
  },
  {
   "cell_type": "code",
   "execution_count": 5,
   "metadata": {},
   "outputs": [],
   "source": [
    "from ont_fast5_api.fast5_interface import get_fast5_file\n",
    "from feito.dataloaders import DatasetBasecalling\n",
    "from feito.api import Basecaller\n",
    "from feito.models import SimpleNet, Rodan"
   ]
  },
  {
   "cell_type": "code",
   "execution_count": 1,
   "metadata": {},
   "outputs": [
    {
     "ename": "NameError",
     "evalue": "name 'namedtuple' is not defined",
     "output_type": "error",
     "traceback": [
      "\u001b[0;31m---------------------------------------------------------------------------\u001b[0m",
      "\u001b[0;31mNameError\u001b[0m                                 Traceback (most recent call last)",
      "Cell \u001b[0;32mIn[1], line 1\u001b[0m\n\u001b[0;32m----> 1\u001b[0m Args\u001b[39m=\u001b[39mnamedtuple(\u001b[39m\"\u001b[39m\u001b[39mArgs\u001b[39m\u001b[39m\"\u001b[39m, [\u001b[39m\"\u001b[39m\u001b[39mpath_test\u001b[39m\u001b[39m\"\u001b[39m, \u001b[39m\"\u001b[39m\u001b[39mbatch_size\u001b[39m\u001b[39m\"\u001b[39m, \u001b[39m\"\u001b[39m\u001b[39mmodel\u001b[39m\u001b[39m\"\u001b[39m, \u001b[39m\"\u001b[39m\u001b[39mpath_checkpoint\u001b[39m\u001b[39m\"\u001b[39m, \u001b[39m\"\u001b[39m\u001b[39mdevice\u001b[39m\u001b[39m\"\u001b[39m])\n\u001b[1;32m      2\u001b[0m args \u001b[39m=\u001b[39m Args(\n\u001b[1;32m      3\u001b[0m \u001b[39m\"\u001b[39m\u001b[39m../data/subsample_val.hdf5\u001b[39m\u001b[39m\"\u001b[39m,\n\u001b[1;32m      4\u001b[0m \u001b[39m16\u001b[39m,\n\u001b[0;32m   (...)\u001b[0m\n\u001b[1;32m      9\u001b[0m \u001b[39mNone\u001b[39;00m,\n\u001b[1;32m     10\u001b[0m )\n\u001b[1;32m     12\u001b[0m PATH_TEST\u001b[39m=\u001b[39margs\u001b[39m.\u001b[39mpath_test\n",
      "\u001b[0;31mNameError\u001b[0m: name 'namedtuple' is not defined"
     ]
    }
   ],
   "source": [
    "Args=namedtuple(\"Args\", [\"path_test\", \"batch_size\", \"model\", \"path_checkpoint\", \"device\"])\n",
    "args = Args(\n",
    "\"../data/subsample_val.hdf5\",\n",
    "16,\n",
    "# \"Rodan\",\n",
    "# \"../output/training/checkpoints/Rodan-epoch4.pt\",\n",
    "\"SimpleNet\",\n",
    "\"../output/training/checkpoints/SimpleNet-epoch1.pt\",\n",
    "None,\n",
    ")\n",
    "    \n",
    "PATH_TEST=args.path_test\n",
    "BATCH_SIZE=args.batch_size\n",
    "MODEL=args.model\n",
    "DEVICE=args.device\n",
    "PATH_CHECKPOINT=args.path_checkpoint\n",
    "\n",
    "if DEVICE is None:\n",
    "    device = torch.device(\"cuda\" if torch.cuda.is_available() else \"cpu\")\n",
    "else: \n",
    "    device = DEVICE\n",
    "print(\"Device\" , device)\n",
    "\n",
    "model=eval(f\"{MODEL}()\")\n",
    "model.to(device)\n",
    "if device.type == \"cpu\":\n",
    "    model.load_state_dict(torch.load(PATH_CHECKPOINT, map_location=torch.device('cpu')))\n",
    "else: \n",
    "    model.load_state_dict(torch.load(PATH_CHECKPOINT))\n",
    "model_output_len = model.output_len\n"
   ]
  },
  {
   "cell_type": "code",
   "execution_count": null,
   "metadata": {},
   "outputs": [],
   "source": [
    "dataset_basecalling = DatasetBasecalling(\n",
    "    [\"/projects5/basecalling-jorge/basecalling/data/RODAN/test/mouse-dataset/0/0a0bf68b-3b64-4fc6-ba34-d853db589f4b.fast5\",\n",
    "     \"/projects5/basecalling-jorge/basecalling/data/RODAN/test/mouse-dataset/0/0a8787dc-a4b9-45da-b4e0-8711ec36897e.fast5\"\n",
    "     ], path_save_index=\"../output/basecalling/index.csv\")\n",
    "basecalling_dataloader = DataLoader(dataset_basecalling, batch_size=BATCH_SIZE, shuffle=False)\n"
   ]
  },
  {
   "cell_type": "code",
   "execution_count": null,
   "metadata": {},
   "outputs": [],
   "source": [
    "basecaller = Basecaller(\n",
    "    model=model, device=device, dataloader=basecalling_dataloader,\n",
    "    path_fasta=\"../output/basecalling/reads.fa\"\n",
    ")"
   ]
  },
  {
   "cell_type": "code",
   "execution_count": null,
   "metadata": {},
   "outputs": [
    {
     "name": "stderr",
     "output_type": "stream",
     "text": [
      "Evaluating | Batch: 1/1:   0%|                                                             | [00:00][W NNPACK.cpp:64] Could not initialize NNPACK! Reason: Unsupported hardware.\n",
      "Evaluating | Batch: 1/1: 100%|█████████████████████████████████████████████████████████████| [00:00]"
     ]
    },
    {
     "name": "stdout",
     "output_type": "stream",
     "text": [
      "torch.Size([12, 1, 4096])\n"
     ]
    },
    {
     "name": "stderr",
     "output_type": "stream",
     "text": [
      "\n"
     ]
    }
   ],
   "source": [
    "basecalled_reads = basecaller()"
   ]
  },
  {
   "cell_type": "code",
   "execution_count": null,
   "metadata": {},
   "outputs": [
    {
     "name": "stdout",
     "output_type": "stream",
     "text": [
      "torch.Size([12, 1, 4096])\n"
     ]
    },
    {
     "data": {
      "text/plain": [
       "tensor([[[-1.6066, -1.5408, -1.6324, -1.5720, -1.7030],\n",
       "         [-1.5967, -1.4906, -1.5702, -1.6931, -1.7134],\n",
       "         [-1.5811, -1.5023, -1.6060, -1.6726, -1.6973],\n",
       "         ...,\n",
       "         [-1.6253, -1.6462, -1.8001, -1.3589, -1.6705],\n",
       "         [-1.5245, -1.5610, -1.6655, -1.6155, -1.6904],\n",
       "         [-1.5919, -1.5469, -1.5890, -1.6186, -1.7079]],\n",
       "\n",
       "        [[-1.6142, -1.5364, -1.6541, -1.5627, -1.6877],\n",
       "         [-1.6010, -1.4986, -1.5658, -1.6832, -1.7138],\n",
       "         [-1.5816, -1.5035, -1.5956, -1.6805, -1.6986],\n",
       "         ...,\n",
       "         [-1.6104, -1.6410, -1.7910, -1.4059, -1.6376],\n",
       "         [-1.5319, -1.5557, -1.6616, -1.6261, -1.6804],\n",
       "         [-1.6281, -1.5040, -1.6177, -1.5906, -1.7186]],\n",
       "\n",
       "        [[-1.5994, -1.5499, -1.6399, -1.5561, -1.7106],\n",
       "         [-1.5881, -1.5052, -1.5728, -1.6885, -1.7068],\n",
       "         [-1.5808, -1.5026, -1.5926, -1.6845, -1.6999],\n",
       "         ...,\n",
       "         [-1.5922, -1.6593, -1.7654, -1.4195, -1.6434],\n",
       "         [-1.5265, -1.5345, -1.6404, -1.6615, -1.6963],\n",
       "         [-1.5846, -1.5111, -1.6563, -1.5912, -1.7160]],\n",
       "\n",
       "        ...,\n",
       "\n",
       "        [[-1.5909, -1.5119, -1.6261, -1.6423, -1.6844],\n",
       "         [-1.5799, -1.5677, -1.6964, -1.5268, -1.6879],\n",
       "         [-1.5875, -1.5788, -1.7083, -1.5056, -1.6806],\n",
       "         ...,\n",
       "         [-1.5493, -1.5694, -1.6830, -1.5375, -1.7222],\n",
       "         [-1.5504, -1.5907, -1.7270, -1.5023, -1.6949],\n",
       "         [-1.5288, -1.5361, -1.6318, -1.6657, -1.6963]],\n",
       "\n",
       "        [[-1.5975, -1.5071, -1.6176, -1.6481, -1.6860],\n",
       "         [-1.5674, -1.5835, -1.6877, -1.5323, -1.6865],\n",
       "         [-1.5688, -1.5594, -1.7046, -1.5286, -1.6996],\n",
       "         ...,\n",
       "         [-1.5553, -1.5629, -1.6889, -1.5323, -1.7228],\n",
       "         [-1.5488, -1.5783, -1.6949, -1.5456, -1.6908],\n",
       "         [-1.5288, -1.5361, -1.6318, -1.6657, -1.6963]],\n",
       "\n",
       "        [[-1.6004, -1.5068, -1.6105, -1.6523, -1.6864],\n",
       "         [-1.5452, -1.5836, -1.6812, -1.5520, -1.6955],\n",
       "         [-1.5734, -1.5337, -1.6971, -1.5470, -1.7102],\n",
       "         ...,\n",
       "         [-1.5424, -1.5690, -1.6909, -1.5336, -1.7272],\n",
       "         [-1.5491, -1.5598, -1.6731, -1.5875, -1.6861],\n",
       "         [-1.5288, -1.5361, -1.6318, -1.6657, -1.6963]]],\n",
       "       grad_fn=<PermuteBackward0>)"
      ]
     },
     "execution_count": 9,
     "metadata": {},
     "output_type": "execute_result"
    }
   ],
   "source": [
    "iter_dl = iter(basecalling_dataloader)\n",
    "X = next(iter_dl)\n",
    "print(X.shape)\n",
    "model(X)\n"
   ]
  },
  {
   "cell_type": "code",
   "execution_count": null,
   "metadata": {},
   "outputs": [],
   "source": []
  }
 ],
 "metadata": {
  "kernelspec": {
   "display_name": "Python 3",
   "language": "python",
   "name": "python3"
  },
  "language_info": {
   "codemirror_mode": {
    "name": "ipython",
    "version": 3
   },
   "file_extension": ".py",
   "mimetype": "text/x-python",
   "name": "python",
   "nbconvert_exporter": "python",
   "pygments_lexer": "ipython3",
   "version": "3.10.11"
  },
  "orig_nbformat": 4
 },
 "nbformat": 4,
 "nbformat_minor": 2
}
