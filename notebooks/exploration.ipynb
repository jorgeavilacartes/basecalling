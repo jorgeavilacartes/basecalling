{
 "cells": [
  {
   "cell_type": "code",
   "execution_count": 33,
   "metadata": {},
   "outputs": [],
   "source": [
    "import numpy as np\n",
    "import seaborn as sns\n",
    "\n",
    "from collections import OrderedDict\n",
    "from ont_fast5_api.fast5_interface import get_fast5_file\n",
    "\n",
    "%matplotlib inline"
   ]
  },
  {
   "cell_type": "code",
   "execution_count": 34,
   "metadata": {},
   "outputs": [],
   "source": [
    "# fast5_path = \"\"\n",
    "# reads = OrderedDict()\n",
    "# with get_fast5_file(fast5_path, mode=\"r\") as f5:\n",
    "#     for read in f5.get_reads():\n",
    "#         raw_data = read.get_raw_data()\n",
    "#         reads[read.read_id] = raw_data"
   ]
  },
  {
   "cell_type": "code",
   "execution_count": 35,
   "metadata": {},
   "outputs": [],
   "source": [
    "# read_id = list(reads.keys())[1]\n",
    "# reads[read_id]"
   ]
  },
  {
   "cell_type": "code",
   "execution_count": 36,
   "metadata": {},
   "outputs": [],
   "source": [
    "# sns.lineplot(reads[read_id][:500])"
   ]
  },
  {
   "attachments": {},
   "cell_type": "markdown",
   "metadata": {},
   "source": [
    "### subsample dataset\n",
    "get a small (1000 signals) to check the correctness of the code and training"
   ]
  },
  {
   "cell_type": "code",
   "execution_count": 37,
   "metadata": {},
   "outputs": [],
   "source": [
    "import h5py\n",
    "import numpy as np\n",
    "from pathlib import Path"
   ]
  },
  {
   "cell_type": "code",
   "execution_count": 38,
   "metadata": {},
   "outputs": [],
   "source": [
    "PATH_DATA=\"/extdata/RODAN/\"\n",
    "recfile = Path(PATH_DATA).joinpath(\"train/rna-train.hdf5\")\n",
    "h5 = h5py.File(recfile)"
   ]
  },
  {
   "cell_type": "code",
   "execution_count": 39,
   "metadata": {},
   "outputs": [],
   "source": [
    "for at in h5.attrs:\n",
    "    print(at)"
   ]
  },
  {
   "cell_type": "code",
   "execution_count": 40,
   "metadata": {},
   "outputs": [
    {
     "data": {
      "text/plain": [
       "array([[ 0.1527149 ,  0.3054298 ,  0.29906666, ..., -0.9226525 ,\n",
       "        -0.90992624, -1.0117362 ],\n",
       "       [-1.0499148 , -0.9035631 , -1.0180993 , ..., -0.85902125,\n",
       "        -0.8081163 , -0.8781106 ],\n",
       "       [-1.0626411 , -1.0753673 , -0.7635744 , ...,  0.636312  ,\n",
       "         0.9162893 ,  0.79539007],\n",
       "       ...,\n",
       "       [-0.22753905, -0.20315987, -0.2925502 , ...,  0.9507882 ,\n",
       "         1.5683942 ,  1.6334053 ],\n",
       "       [ 0.83701867,  2.1697474 ,  0.885777  , ..., -0.21941265,\n",
       "         0.12189592,  0.16252789],\n",
       "       [-0.07313755,  0.04063197, -0.09751674, ...,  0.99142015,\n",
       "         1.0483049 ,  0.9345354 ]], dtype=float32)"
      ]
     },
     "execution_count": 40,
     "metadata": {},
     "output_type": "execute_result"
    }
   ],
   "source": [
    "h5[\"events\"][:1000]"
   ]
  },
  {
   "cell_type": "code",
   "execution_count": 41,
   "metadata": {},
   "outputs": [
    {
     "data": {
      "text/plain": [
       "array([[4, 3, 4, ..., 0, 0, 0],\n",
       "       [4, 2, 4, ..., 0, 0, 0],\n",
       "       [4, 3, 4, ..., 0, 0, 0],\n",
       "       ...,\n",
       "       [2, 1, 1, ..., 0, 0, 0],\n",
       "       [2, 4, 1, ..., 0, 0, 0],\n",
       "       [1, 1, 2, ..., 0, 0, 0]])"
      ]
     },
     "execution_count": 41,
     "metadata": {},
     "output_type": "execute_result"
    }
   ],
   "source": [
    "h5[\"labels\"][:1000]"
   ]
  },
  {
   "cell_type": "code",
   "execution_count": 42,
   "metadata": {},
   "outputs": [
    {
     "data": {
      "text/plain": [
       "<HDF5 dataset \"events\": shape (1000002, 4096), type \"<f4\">"
      ]
     },
     "execution_count": 42,
     "metadata": {},
     "output_type": "execute_result"
    }
   ],
   "source": [
    "h5[\"events\"]"
   ]
  },
  {
   "cell_type": "code",
   "execution_count": 43,
   "metadata": {},
   "outputs": [
    {
     "data": {
      "text/plain": [
       "(1000,)"
      ]
     },
     "execution_count": 43,
     "metadata": {},
     "output_type": "execute_result"
    }
   ],
   "source": [
    "N_SAMPLES = 1000\n",
    "f = h5py.File(\"../data/subsample_train.hdf5\", \"w\")\n",
    "dset = f.create_dataset(\"subsample_train\", (N_SAMPLES,))\n",
    "f[\"events\"] = h5[\"events\"][:N_SAMPLES]\n",
    "f[\"labels\"] = h5[\"labels\"][:N_SAMPLES]\n",
    "f.close()"
   ]
  },
  {
   "cell_type": "code",
   "execution_count": 50,
   "metadata": {},
   "outputs": [],
   "source": [
    "N_SAMPLES_VAL = 200\n",
    "f = h5py.File(\"../data/subsample_val.hdf5\", \"w\")\n",
    "dset = f.create_dataset(\"subsample_val\", (N_SAMPLES,))\n",
    "f[\"events\"] = h5[\"events\"][N_SAMPLES:N_SAMPLES+N_SAMPLES_VAL]\n",
    "f[\"labels\"] = h5[\"labels\"][N_SAMPLES:N_SAMPLES+N_SAMPLES_VAL]\n",
    "f.close()"
   ]
  },
  {
   "cell_type": "code",
   "execution_count": 51,
   "metadata": {},
   "outputs": [
    {
     "data": {
      "text/plain": [
       "((200, 4096), (200, 271))"
      ]
     },
     "execution_count": 51,
     "metadata": {},
     "output_type": "execute_result"
    }
   ],
   "source": [
    "g = h5py.File(\"../data/subsample_val.hdf5\", \"r\")\n",
    "g[\"events\"].shape, g[\"labels\"].shape"
   ]
  },
  {
   "cell_type": "code",
   "execution_count": 52,
   "metadata": {},
   "outputs": [
    {
     "data": {
      "text/plain": [
       "array([0.82889223, 0.84514505, 0.86952424, ..., 1.2839704 , 1.4058663 ,\n",
       "       1.113316  ], dtype=float32)"
      ]
     },
     "execution_count": 52,
     "metadata": {},
     "output_type": "execute_result"
    }
   ],
   "source": [
    "g[\"events\"][0]"
   ]
  },
  {
   "cell_type": "code",
   "execution_count": 53,
   "metadata": {},
   "outputs": [],
   "source": [
    "g.close()"
   ]
  }
 ],
 "metadata": {
  "kernelspec": {
   "display_name": "Python 3",
   "language": "python",
   "name": "python3"
  },
  "language_info": {
   "codemirror_mode": {
    "name": "ipython",
    "version": 3
   },
   "file_extension": ".py",
   "mimetype": "text/x-python",
   "name": "python",
   "nbconvert_exporter": "python",
   "pygments_lexer": "ipython3",
   "version": "3.10.11"
  },
  "orig_nbformat": 4
 },
 "nbformat": 4,
 "nbformat_minor": 2
}
