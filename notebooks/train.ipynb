{
 "cells": [
  {
   "cell_type": "code",
   "execution_count": 1,
   "metadata": {},
   "outputs": [],
   "source": [
    "import sys\n",
    "from pathlib import Path\n",
    "\n",
    "# add parent folder to the path\n",
    "module_path = str(Path.cwd().parents[0])\n",
    "if module_path not in sys.path:\n",
    "    sys.path.append(module_path)"
   ]
  },
  {
   "attachments": {},
   "cell_type": "markdown",
   "metadata": {},
   "source": [
    "___"
   ]
  },
  {
   "cell_type": "code",
   "execution_count": 2,
   "metadata": {},
   "outputs": [],
   "source": [
    "import torch\n",
    "import torch.nn as nn\n",
    "from torch.utils.data import DataLoader # load batches to the network\n",
    "\n",
    "from feito.trainer import BasecallerTrainer as Trainer\n",
    "from feito.models import SimpleNet, Rodan\n",
    "from feito.loss_functions import ctc_label_smoothing_loss\n",
    "from feito.dataloader import DatasetONT"
   ]
  },
  {
   "attachments": {},
   "cell_type": "markdown",
   "metadata": {},
   "source": [
    "___\n",
    "PARAMS"
   ]
  },
  {
   "cell_type": "code",
   "execution_count": 3,
   "metadata": {},
   "outputs": [],
   "source": [
    "EPOCHS=10\n",
    "BATCH_SIZE=16"
   ]
  },
  {
   "attachments": {},
   "cell_type": "markdown",
   "metadata": {},
   "source": [
    "### Training network\n",
    "Model, loss function and optimizer"
   ]
  },
  {
   "cell_type": "code",
   "execution_count": 4,
   "metadata": {},
   "outputs": [],
   "source": [
    "# network to use\n",
    "model=SimpleNet()\n",
    "# model=Rodan()\n",
    "model_output_len = model.output_len # another way to obtain the output of the model https://github.com/biodlab/RODAN/blob/029f7d5eb31b11b53537f13164bfedee0c0786e4/model.py#L317\n",
    "loss_fn = nn.CTCLoss() #ctc_label_smoothing \n",
    "optimizer = torch.optim.SGD(model.parameters(), lr = 1e-3)"
   ]
  },
  {
   "attachments": {},
   "cell_type": "markdown",
   "metadata": {},
   "source": [
    "\n",
    "Load dataset"
   ]
  },
  {
   "cell_type": "code",
   "execution_count": 5,
   "metadata": {},
   "outputs": [],
   "source": [
    "# dataset\n",
    "dataset_train = DatasetONT(recfile=\"../data/subsample_train.hdf5\", output_network_len=model_output_len) #simplenet_output_len)\n",
    "dataset_val   = DatasetONT(recfile=\"../data/subsample_val.hdf5\", output_network_len=model_output_len) #simplenet_output_len)\n",
    "\n",
    "dataloader_train = DataLoader(dataset_val, batch_size=BATCH_SIZE, shuffle=True)\n",
    "dataloader_val = DataLoader(dataset_val, batch_size=BATCH_SIZE, shuffle=False)"
   ]
  },
  {
   "attachments": {},
   "cell_type": "markdown",
   "metadata": {},
   "source": [
    "Train"
   ]
  },
  {
   "cell_type": "code",
   "execution_count": 6,
   "metadata": {},
   "outputs": [],
   "source": [
    "\n",
    "trainer=Trainer(\n",
    "    model=SimpleNet(),\n",
    "    device=torch.device(\"cuda\" if torch.cuda.is_available() else \"cpu\"),\n",
    "    train_loader=dataloader_train,\n",
    "    validation_loader=dataloader_val,\n",
    "    criterion=loss_fn,\n",
    "    optimizer=optimizer,\n",
    "    callbacks=[]\n",
    ")"
   ]
  },
  {
   "cell_type": "code",
   "execution_count": 7,
   "metadata": {},
   "outputs": [
    {
     "name": "stderr",
     "output_type": "stream",
     "text": [
      "Epoch: 1 | batch: 12/13: 100%|████████████████████████████████████████████████| [00:04, loss=2.5319]\n",
      "Epoch: 2 | batch: 12/13: 100%|████████████████████████████████████████████████| [00:03, loss=2.6133]\n",
      "Epoch: 3 | batch: 12/13: 100%|████████████████████████████████████████████████| [00:04, loss=2.6180]\n",
      "Epoch: 4 | batch: 12/13: 100%|████████████████████████████████████████████████| [00:04, loss=2.5693]\n",
      "Epoch: 5 | batch: 12/13: 100%|████████████████████████████████████████████████| [00:04, loss=2.5465]\n",
      "Epoch: 6 | batch: 12/13: 100%|████████████████████████████████████████████████| [00:04, loss=2.5285]\n",
      "Epoch: 7 | batch: 12/13: 100%|████████████████████████████████████████████████| [00:04, loss=2.4814]\n",
      "Epoch: 8 | batch: 12/13: 100%|████████████████████████████████████████████████| [00:04, loss=2.3735]\n",
      "Epoch: 9 | batch: 12/13: 100%|████████████████████████████████████████████████| [00:04, loss=2.6132]\n",
      "Epoch: 10 | batch: 12/13: 100%|██████████████████████████████████████████████████| [00:04, loss=inf]"
     ]
    },
    {
     "name": "stdout",
     "output_type": "stream",
     "text": [
      "Done!\n"
     ]
    },
    {
     "name": "stderr",
     "output_type": "stream",
     "text": [
      "\n"
     ]
    }
   ],
   "source": [
    "trainer.fit(epochs=EPOCHS)"
   ]
  },
  {
   "cell_type": "code",
   "execution_count": null,
   "metadata": {},
   "outputs": [],
   "source": []
  }
 ],
 "metadata": {
  "kernelspec": {
   "display_name": "Python 3",
   "language": "python",
   "name": "python3"
  },
  "language_info": {
   "codemirror_mode": {
    "name": "ipython",
    "version": 3
   },
   "file_extension": ".py",
   "mimetype": "text/x-python",
   "name": "python",
   "nbconvert_exporter": "python",
   "pygments_lexer": "ipython3",
   "version": "3.10.11"
  },
  "orig_nbformat": 4
 },
 "nbformat": 4,
 "nbformat_minor": 2
}
